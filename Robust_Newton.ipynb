{
 "cells": [
  {
   "cell_type": "code",
   "execution_count": 2,
   "metadata": {},
   "outputs": [
    {
     "name": "stdout",
     "output_type": "stream",
     "text": [
      "Root of the function f(x) is:  1.832308187048947\n",
      "Root of the function is:  4.272187994307012\n"
     ]
    }
   ],
   "source": [
    "from pylab import *\n",
    "import math\n",
    " \n",
    "# f(x) - the function of the polynomial\n",
    "def f(x):\n",
    "    \n",
    "    y = 15*math.cos(x)*math.exp(-x/2) - 2*x**(1/3) + 4  \n",
    "    return y\n",
    " \n",
    " \n",
    "# function to find the derivative of the polynomial \n",
    "\n",
    "def derivative(x):\n",
    "    h = 0.001\n",
    "    derivative = (f(x + h) - f(x)) / h\n",
    "    return derivative \n",
    "\n",
    "# implimentation of Newton-Raphson\n",
    "\n",
    "def newton_raphson(x):\n",
    "    return (x - (f(x) / derivative(x)))\n",
    "\n",
    "# iteration function that allows for limiting the number of iterations\n",
    "\n",
    "def iterate(p, n):\n",
    "    x = p\n",
    "    for i in range(n):\n",
    "        x = newton_raphson(x)\n",
    "    return x\n",
    " \n",
    "''' print the root of the polynomial x^3 - 2x - 1 using 3 iterations and taking initial point as 1\n",
    "'''\n",
    "print(\"Root of the function f(x) is: \",iterate(1, 3)) \n",
    "\n",
    "print(\"Root of the function is: \", iterate(5,3))\n",
    " \n"
   ]
  },
  {
   "cell_type": "code",
   "execution_count": null,
   "metadata": {},
   "outputs": [],
   "source": []
  }
 ],
 "metadata": {
  "kernelspec": {
   "display_name": "Python 3",
   "language": "python",
   "name": "python3"
  },
  "language_info": {
   "codemirror_mode": {
    "name": "ipython",
    "version": 3
   },
   "file_extension": ".py",
   "mimetype": "text/x-python",
   "name": "python",
   "nbconvert_exporter": "python",
   "pygments_lexer": "ipython3",
   "version": "3.6.5"
  }
 },
 "nbformat": 4,
 "nbformat_minor": 2
}
